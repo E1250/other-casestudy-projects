{
  "nbformat": 4,
  "nbformat_minor": 0,
  "metadata": {
    "colab": {
      "provenance": [],
      "authorship_tag": "ABX9TyOjXykEpubp5Ch540gpHqXn",
      "include_colab_link": true
    },
    "kernelspec": {
      "name": "python3",
      "display_name": "Python 3"
    },
    "language_info": {
      "name": "python"
    }
  },
  "cells": [
    {
      "cell_type": "markdown",
      "metadata": {
        "id": "view-in-github",
        "colab_type": "text"
      },
      "source": [
        "<a href=\"https://colab.research.google.com/github/E1250/other-support-ref/blob/main/Federated_Learning.ipynb\" target=\"_parent\"><img src=\"https://colab.research.google.com/assets/colab-badge.svg\" alt=\"Open In Colab\"/></a>"
      ]
    },
    {
      "cell_type": "markdown",
      "source": [
        "* Youtube Video - https://www.youtube.com/watch?v=RbZDYc_Cvsk\n",
        "* TF Federated Source - https://www.tensorflow.org/federated/tutorials/federated_learning_for_image_classification\n",
        "* Formal Colab code - https://colab.research.google.com/github/tensorflow/federated/blob/v0.61.0/docs/tutorials/federated_learning_for_image_classification.ipynb"
      ],
      "metadata": {
        "id": "7EDxa91iJ9dR"
      }
    },
    {
      "cell_type": "code",
      "source": [
        "!pip install --upgrade tensorflow-federated"
      ],
      "metadata": {
        "id": "QbFyfy0SLpKN"
      },
      "execution_count": null,
      "outputs": []
    },
    {
      "cell_type": "code",
      "execution_count": 1,
      "metadata": {
        "id": "cH1_7h3aJ8F7"
      },
      "outputs": [],
      "source": [
        "import collections\n",
        "import numpy as np\n",
        "np.random.seed(0)\n",
        "\n",
        "import tensorflow as tf\n",
        "from tensorflow.python.keras.optimizer_v2 import gradient_descent\n",
        "\n",
        "import tensorflow_federated as tff\n",
        "from random import choices\n",
        "\n",
        "tff.federated_computation(lambda: 'Hello, World!')()\n",
        "\n",
        "tf.compat.v1.enable_v2_behavior()"
      ]
    },
    {
      "cell_type": "code",
      "source": [
        "emnist_train, emnist_test = tff.simulation.datasets.emnist.load_data()"
      ],
      "metadata": {
        "colab": {
          "base_uri": "https://localhost:8080/"
        },
        "id": "NEX3zyjZLjfj",
        "outputId": "dcf2d4e8-77dc-4e6d-e364-508f01f00b0a"
      },
      "execution_count": 2,
      "outputs": [
        {
          "output_type": "stream",
          "name": "stderr",
          "text": [
            "Downloading emnist_all.sqlite.lzma: 100%|██████████| 170507172/170507172 [00:47<00:00, 3619214.39it/s]\n"
          ]
        }
      ]
    },
    {
      "cell_type": "code",
      "source": [
        "NUM_CLIENTS = 10\n",
        "NUM_EPOCHS = 5\n",
        "BATCH_SIZE = 20\n",
        "SHUFFLE_BUFFER = 100\n",
        "PREFETCH_BUFFER = 10"
      ],
      "metadata": {
        "id": "vkYMir2UWtMp"
      },
      "execution_count": 4,
      "outputs": []
    },
    {
      "cell_type": "code",
      "source": [
        "def preprocess(dataset):\n",
        "  def batch_format_fn(element):\n",
        "    \"\"\"Flatten a batch `pixels` and return the features as an `OrderedDict`.\"\"\"\n",
        "    return collections.OrderedDict(\n",
        "        x=tf.reshape(element['pixels'], [-1]),\n",
        "        y=tf.reshape(element['label'], [-1]))\n",
        "\n",
        "  return dataset.repeat(NUM_EPOCHS).shuffle(SHUFFLE_BUFFER, seed=1).batch(\n",
        "      BATCH_SIZE).map(batch_format_fn).prefetch(PREFETCH_BUFFER)"
      ],
      "metadata": {
        "id": "SWgCEHRAUdfW"
      },
      "execution_count": 5,
      "outputs": []
    },
    {
      "cell_type": "code",
      "source": [
        "def make_federated_data(client_data, client_ids):\n",
        "  return [\n",
        "      preprocess(client_data.create_tf_dataset_for_client(x))\n",
        "      for x in client_ids\n",
        "  ]"
      ],
      "metadata": {
        "id": "5RJiJzUjWcBo"
      },
      "execution_count": 6,
      "outputs": []
    },
    {
      "cell_type": "code",
      "source": [
        "sample_clients = emnist_train.client_ids[0:NUM_CLIENTS]\n",
        "\n",
        "federated_train_data = make_federated_data(emnist_train, sample_clients)\n",
        "print(f'Number of client datasets: {len(federated_train_data)}')\n",
        "print(f'First dataset: {federated_train_data[0]}')\n",
        "\n",
        "federated_test_data = make_federated_data(emnist_test, sample_clients)"
      ],
      "metadata": {
        "colab": {
          "base_uri": "https://localhost:8080/"
        },
        "id": "KYkkX5-sWt8W",
        "outputId": "6efac5c5-940e-4fae-ed82-3f6f92366bcb"
      },
      "execution_count": 13,
      "outputs": [
        {
          "output_type": "stream",
          "name": "stdout",
          "text": [
            "Number of client datasets: 10\n",
            "First dataset: <_PrefetchDataset element_spec=OrderedDict([('x', TensorSpec(shape=(None, 784), dtype=tf.float32, name=None)), ('y', TensorSpec(shape=(None, 1), dtype=tf.int32, name=None))])>\n"
          ]
        }
      ]
    },
    {
      "cell_type": "code",
      "source": [
        "sample_batch = iter(federated_train_data[0]).next()\n",
        "sample_batch = collections.OrderedDict(\n",
        "    x = sample_batch['x'].numpy(),\n",
        "    y = sample_batch['y'].numpy()\n",
        ")"
      ],
      "metadata": {
        "id": "u_OYrN9qYu7-"
      },
      "execution_count": 18,
      "outputs": []
    },
    {
      "cell_type": "code",
      "source": [
        "sample_batch"
      ],
      "metadata": {
        "colab": {
          "base_uri": "https://localhost:8080/"
        },
        "id": "o0KUSgqIY-Uk",
        "outputId": "d7ebabf8-1b75-4572-ccb7-87918cea29b1"
      },
      "execution_count": 19,
      "outputs": [
        {
          "output_type": "execute_result",
          "data": {
            "text/plain": [
              "OrderedDict([('x',\n",
              "              array([[1., 1., 1., ..., 1., 1., 1.],\n",
              "                     [1., 1., 1., ..., 1., 1., 1.],\n",
              "                     [1., 1., 1., ..., 1., 1., 1.],\n",
              "                     ...,\n",
              "                     [1., 1., 1., ..., 1., 1., 1.],\n",
              "                     [1., 1., 1., ..., 1., 1., 1.],\n",
              "                     [1., 1., 1., ..., 1., 1., 1.]], dtype=float32)),\n",
              "             ('y',\n",
              "              array([[2],\n",
              "                     [1],\n",
              "                     [5],\n",
              "                     [7],\n",
              "                     [1],\n",
              "                     [7],\n",
              "                     [7],\n",
              "                     [1],\n",
              "                     [4],\n",
              "                     [7],\n",
              "                     [4],\n",
              "                     [2],\n",
              "                     [2],\n",
              "                     [5],\n",
              "                     [4],\n",
              "                     [1],\n",
              "                     [1],\n",
              "                     [0],\n",
              "                     [0],\n",
              "                     [9]], dtype=int32))])"
            ]
          },
          "metadata": {},
          "execution_count": 19
        }
      ]
    },
    {
      "cell_type": "code",
      "source": [],
      "metadata": {
        "id": "pF6czDlvbOKa"
      },
      "execution_count": null,
      "outputs": []
    }
  ]
}