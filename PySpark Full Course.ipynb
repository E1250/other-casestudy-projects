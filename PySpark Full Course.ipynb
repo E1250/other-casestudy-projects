{
 "cells": [
  {
   "attachments": {},
   "cell_type": "markdown",
   "metadata": {},
   "source": [
    "## PySpark Full Course From FreeCodeCamp\n",
    "PySpark is often used for large-scale data processing and machine learning. I didn't watch the whole Video , just till `1:17:00`\n",
    " - Youtube Video - https://www.youtube.com/watch?v=_C8kWso4ne4\n",
    " - GitHub Repository - https://github.com/krishnaik06/Pyspark-With-Python\n",
    " - Spark Webiste - https://spark.apache.org/\n",
    " - PySpark Documentation - https://spark.apache.org/docs/latest/api/python/"
   ]
  },
  {
   "cell_type": "code",
   "execution_count": 48,
   "metadata": {},
   "outputs": [],
   "source": [
    "# !pip install pyspark"
   ]
  },
  {
   "cell_type": "code",
   "execution_count": 88,
   "metadata": {},
   "outputs": [],
   "source": [
    "import pyspark\n",
    "import pandas as pd"
   ]
  },
  {
   "cell_type": "code",
   "execution_count": 50,
   "metadata": {},
   "outputs": [
    {
     "data": {
      "text/html": [
       "<div>\n",
       "<style scoped>\n",
       "    .dataframe tbody tr th:only-of-type {\n",
       "        vertical-align: middle;\n",
       "    }\n",
       "\n",
       "    .dataframe tbody tr th {\n",
       "        vertical-align: top;\n",
       "    }\n",
       "\n",
       "    .dataframe thead th {\n",
       "        text-align: right;\n",
       "    }\n",
       "</style>\n",
       "<table border=\"1\" class=\"dataframe\">\n",
       "  <thead>\n",
       "    <tr style=\"text-align: right;\">\n",
       "      <th></th>\n",
       "      <th>R&amp;D Expenditure</th>\n",
       "      <th>Administration Expenditure</th>\n",
       "      <th>Marketing Expenditure</th>\n",
       "      <th>State</th>\n",
       "      <th>Profit</th>\n",
       "    </tr>\n",
       "  </thead>\n",
       "  <tbody>\n",
       "    <tr>\n",
       "      <th>0</th>\n",
       "      <td>165349.20</td>\n",
       "      <td>136897.80</td>\n",
       "      <td>471784.10</td>\n",
       "      <td>Florida</td>\n",
       "      <td>192261.83</td>\n",
       "    </tr>\n",
       "    <tr>\n",
       "      <th>1</th>\n",
       "      <td>162597.70</td>\n",
       "      <td>151377.59</td>\n",
       "      <td>443898.53</td>\n",
       "      <td>Florida</td>\n",
       "      <td>191792.06</td>\n",
       "    </tr>\n",
       "    <tr>\n",
       "      <th>2</th>\n",
       "      <td>153441.51</td>\n",
       "      <td>101145.55</td>\n",
       "      <td>407934.54</td>\n",
       "      <td>Florida</td>\n",
       "      <td>191050.39</td>\n",
       "    </tr>\n",
       "    <tr>\n",
       "      <th>3</th>\n",
       "      <td>144372.41</td>\n",
       "      <td>118671.85</td>\n",
       "      <td>383199.62</td>\n",
       "      <td>Florida</td>\n",
       "      <td>182901.99</td>\n",
       "    </tr>\n",
       "    <tr>\n",
       "      <th>4</th>\n",
       "      <td>142107.34</td>\n",
       "      <td>91391.77</td>\n",
       "      <td>366168.42</td>\n",
       "      <td>Florida</td>\n",
       "      <td>166187.94</td>\n",
       "    </tr>\n",
       "    <tr>\n",
       "      <th>5</th>\n",
       "      <td>131876.90</td>\n",
       "      <td>99814.71</td>\n",
       "      <td>362861.36</td>\n",
       "      <td>Florida</td>\n",
       "      <td>156991.12</td>\n",
       "    </tr>\n",
       "    <tr>\n",
       "      <th>6</th>\n",
       "      <td>134615.46</td>\n",
       "      <td>147198.87</td>\n",
       "      <td>127716.82</td>\n",
       "      <td>Florida</td>\n",
       "      <td>156122.51</td>\n",
       "    </tr>\n",
       "    <tr>\n",
       "      <th>7</th>\n",
       "      <td>130298.13</td>\n",
       "      <td>145530.06</td>\n",
       "      <td>323876.68</td>\n",
       "      <td>Florida</td>\n",
       "      <td>155752.60</td>\n",
       "    </tr>\n",
       "    <tr>\n",
       "      <th>8</th>\n",
       "      <td>120542.52</td>\n",
       "      <td>148718.95</td>\n",
       "      <td>311613.29</td>\n",
       "      <td>Florida</td>\n",
       "      <td>152211.77</td>\n",
       "    </tr>\n",
       "    <tr>\n",
       "      <th>9</th>\n",
       "      <td>123334.88</td>\n",
       "      <td>108679.17</td>\n",
       "      <td>304981.62</td>\n",
       "      <td>Florida</td>\n",
       "      <td>149759.96</td>\n",
       "    </tr>\n",
       "    <tr>\n",
       "      <th>10</th>\n",
       "      <td>101913.08</td>\n",
       "      <td>110594.11</td>\n",
       "      <td>229160.95</td>\n",
       "      <td>Florida</td>\n",
       "      <td>146121.95</td>\n",
       "    </tr>\n",
       "    <tr>\n",
       "      <th>11</th>\n",
       "      <td>100671.96</td>\n",
       "      <td>91790.61</td>\n",
       "      <td>249744.55</td>\n",
       "      <td>Florida</td>\n",
       "      <td>144259.40</td>\n",
       "    </tr>\n",
       "    <tr>\n",
       "      <th>12</th>\n",
       "      <td>93863.75</td>\n",
       "      <td>127320.38</td>\n",
       "      <td>249839.44</td>\n",
       "      <td>Florida</td>\n",
       "      <td>141585.52</td>\n",
       "    </tr>\n",
       "    <tr>\n",
       "      <th>13</th>\n",
       "      <td>91992.39</td>\n",
       "      <td>135495.07</td>\n",
       "      <td>252664.93</td>\n",
       "      <td>Florida</td>\n",
       "      <td>134307.35</td>\n",
       "    </tr>\n",
       "    <tr>\n",
       "      <th>14</th>\n",
       "      <td>119943.24</td>\n",
       "      <td>156547.42</td>\n",
       "      <td>256512.92</td>\n",
       "      <td>Florida</td>\n",
       "      <td>132602.65</td>\n",
       "    </tr>\n",
       "    <tr>\n",
       "      <th>15</th>\n",
       "      <td>114523.61</td>\n",
       "      <td>122616.84</td>\n",
       "      <td>261776.23</td>\n",
       "      <td>Florida</td>\n",
       "      <td>129917.04</td>\n",
       "    </tr>\n",
       "    <tr>\n",
       "      <th>16</th>\n",
       "      <td>78013.11</td>\n",
       "      <td>121597.55</td>\n",
       "      <td>264346.06</td>\n",
       "      <td>Florida</td>\n",
       "      <td>126992.93</td>\n",
       "    </tr>\n",
       "    <tr>\n",
       "      <th>17</th>\n",
       "      <td>94657.16</td>\n",
       "      <td>145077.58</td>\n",
       "      <td>282574.31</td>\n",
       "      <td>Florida</td>\n",
       "      <td>125370.37</td>\n",
       "    </tr>\n",
       "    <tr>\n",
       "      <th>18</th>\n",
       "      <td>91749.16</td>\n",
       "      <td>114175.79</td>\n",
       "      <td>294919.57</td>\n",
       "      <td>Florida</td>\n",
       "      <td>124266.90</td>\n",
       "    </tr>\n",
       "    <tr>\n",
       "      <th>19</th>\n",
       "      <td>86419.70</td>\n",
       "      <td>153514.11</td>\n",
       "      <td>0.00</td>\n",
       "      <td>Florida</td>\n",
       "      <td>122776.86</td>\n",
       "    </tr>\n",
       "    <tr>\n",
       "      <th>20</th>\n",
       "      <td>76253.86</td>\n",
       "      <td>113867.30</td>\n",
       "      <td>298664.47</td>\n",
       "      <td>Florida</td>\n",
       "      <td>118474.03</td>\n",
       "    </tr>\n",
       "    <tr>\n",
       "      <th>21</th>\n",
       "      <td>78389.47</td>\n",
       "      <td>153773.43</td>\n",
       "      <td>299737.29</td>\n",
       "      <td>Florida</td>\n",
       "      <td>111313.02</td>\n",
       "    </tr>\n",
       "    <tr>\n",
       "      <th>22</th>\n",
       "      <td>73994.56</td>\n",
       "      <td>122782.75</td>\n",
       "      <td>303319.26</td>\n",
       "      <td>Florida</td>\n",
       "      <td>110352.25</td>\n",
       "    </tr>\n",
       "    <tr>\n",
       "      <th>23</th>\n",
       "      <td>67532.53</td>\n",
       "      <td>105751.03</td>\n",
       "      <td>304768.73</td>\n",
       "      <td>Florida</td>\n",
       "      <td>108733.99</td>\n",
       "    </tr>\n",
       "    <tr>\n",
       "      <th>24</th>\n",
       "      <td>77044.01</td>\n",
       "      <td>99281.34</td>\n",
       "      <td>140574.81</td>\n",
       "      <td>Florida</td>\n",
       "      <td>108552.04</td>\n",
       "    </tr>\n",
       "    <tr>\n",
       "      <th>25</th>\n",
       "      <td>64664.71</td>\n",
       "      <td>139553.16</td>\n",
       "      <td>137962.62</td>\n",
       "      <td>Florida</td>\n",
       "      <td>107404.34</td>\n",
       "    </tr>\n",
       "    <tr>\n",
       "      <th>26</th>\n",
       "      <td>75328.87</td>\n",
       "      <td>144135.98</td>\n",
       "      <td>134050.07</td>\n",
       "      <td>Florida</td>\n",
       "      <td>105733.54</td>\n",
       "    </tr>\n",
       "    <tr>\n",
       "      <th>27</th>\n",
       "      <td>72107.60</td>\n",
       "      <td>127864.55</td>\n",
       "      <td>353183.81</td>\n",
       "      <td>Florida</td>\n",
       "      <td>105008.31</td>\n",
       "    </tr>\n",
       "    <tr>\n",
       "      <th>28</th>\n",
       "      <td>66051.52</td>\n",
       "      <td>182645.56</td>\n",
       "      <td>118148.20</td>\n",
       "      <td>Florida</td>\n",
       "      <td>103282.38</td>\n",
       "    </tr>\n",
       "    <tr>\n",
       "      <th>29</th>\n",
       "      <td>65605.48</td>\n",
       "      <td>153032.06</td>\n",
       "      <td>107138.38</td>\n",
       "      <td>Florida</td>\n",
       "      <td>101004.64</td>\n",
       "    </tr>\n",
       "    <tr>\n",
       "      <th>30</th>\n",
       "      <td>61994.48</td>\n",
       "      <td>115641.28</td>\n",
       "      <td>91131.24</td>\n",
       "      <td>Florida</td>\n",
       "      <td>99937.59</td>\n",
       "    </tr>\n",
       "    <tr>\n",
       "      <th>31</th>\n",
       "      <td>61136.38</td>\n",
       "      <td>152701.92</td>\n",
       "      <td>88218.23</td>\n",
       "      <td>Florida</td>\n",
       "      <td>97483.56</td>\n",
       "    </tr>\n",
       "    <tr>\n",
       "      <th>32</th>\n",
       "      <td>63408.86</td>\n",
       "      <td>129219.61</td>\n",
       "      <td>46085.25</td>\n",
       "      <td>Florida</td>\n",
       "      <td>97427.84</td>\n",
       "    </tr>\n",
       "    <tr>\n",
       "      <th>33</th>\n",
       "      <td>55493.95</td>\n",
       "      <td>103057.49</td>\n",
       "      <td>214634.81</td>\n",
       "      <td>Florida</td>\n",
       "      <td>96778.92</td>\n",
       "    </tr>\n",
       "    <tr>\n",
       "      <th>34</th>\n",
       "      <td>46426.07</td>\n",
       "      <td>157693.92</td>\n",
       "      <td>210797.67</td>\n",
       "      <td>Florida</td>\n",
       "      <td>96712.80</td>\n",
       "    </tr>\n",
       "    <tr>\n",
       "      <th>35</th>\n",
       "      <td>46014.02</td>\n",
       "      <td>85047.44</td>\n",
       "      <td>205517.64</td>\n",
       "      <td>Florida</td>\n",
       "      <td>96479.51</td>\n",
       "    </tr>\n",
       "    <tr>\n",
       "      <th>36</th>\n",
       "      <td>28663.76</td>\n",
       "      <td>127056.21</td>\n",
       "      <td>201126.82</td>\n",
       "      <td>Florida</td>\n",
       "      <td>90708.19</td>\n",
       "    </tr>\n",
       "    <tr>\n",
       "      <th>37</th>\n",
       "      <td>44069.95</td>\n",
       "      <td>51283.14</td>\n",
       "      <td>197029.42</td>\n",
       "      <td>Florida</td>\n",
       "      <td>89949.14</td>\n",
       "    </tr>\n",
       "    <tr>\n",
       "      <th>38</th>\n",
       "      <td>20229.59</td>\n",
       "      <td>65947.93</td>\n",
       "      <td>185265.10</td>\n",
       "      <td>Florida</td>\n",
       "      <td>81229.06</td>\n",
       "    </tr>\n",
       "    <tr>\n",
       "      <th>39</th>\n",
       "      <td>38558.51</td>\n",
       "      <td>82982.09</td>\n",
       "      <td>174999.30</td>\n",
       "      <td>Florida</td>\n",
       "      <td>81005.76</td>\n",
       "    </tr>\n",
       "    <tr>\n",
       "      <th>40</th>\n",
       "      <td>28754.33</td>\n",
       "      <td>118546.05</td>\n",
       "      <td>172795.67</td>\n",
       "      <td>Florida</td>\n",
       "      <td>78239.91</td>\n",
       "    </tr>\n",
       "    <tr>\n",
       "      <th>41</th>\n",
       "      <td>27892.92</td>\n",
       "      <td>84710.77</td>\n",
       "      <td>164470.71</td>\n",
       "      <td>Florida</td>\n",
       "      <td>77798.83</td>\n",
       "    </tr>\n",
       "    <tr>\n",
       "      <th>42</th>\n",
       "      <td>23640.93</td>\n",
       "      <td>96189.63</td>\n",
       "      <td>148001.11</td>\n",
       "      <td>Florida</td>\n",
       "      <td>71498.49</td>\n",
       "    </tr>\n",
       "    <tr>\n",
       "      <th>43</th>\n",
       "      <td>15505.73</td>\n",
       "      <td>127382.30</td>\n",
       "      <td>35534.17</td>\n",
       "      <td>Florida</td>\n",
       "      <td>69758.98</td>\n",
       "    </tr>\n",
       "    <tr>\n",
       "      <th>44</th>\n",
       "      <td>22177.74</td>\n",
       "      <td>154806.14</td>\n",
       "      <td>28334.72</td>\n",
       "      <td>Florida</td>\n",
       "      <td>65200.33</td>\n",
       "    </tr>\n",
       "    <tr>\n",
       "      <th>45</th>\n",
       "      <td>1000.23</td>\n",
       "      <td>124153.04</td>\n",
       "      <td>1903.93</td>\n",
       "      <td>Florida</td>\n",
       "      <td>64926.08</td>\n",
       "    </tr>\n",
       "    <tr>\n",
       "      <th>46</th>\n",
       "      <td>1315.46</td>\n",
       "      <td>115816.21</td>\n",
       "      <td>297114.46</td>\n",
       "      <td>Florida</td>\n",
       "      <td>49490.75</td>\n",
       "    </tr>\n",
       "    <tr>\n",
       "      <th>47</th>\n",
       "      <td>0.00</td>\n",
       "      <td>135426.92</td>\n",
       "      <td>0.00</td>\n",
       "      <td>Florida</td>\n",
       "      <td>42559.73</td>\n",
       "    </tr>\n",
       "    <tr>\n",
       "      <th>48</th>\n",
       "      <td>542.05</td>\n",
       "      <td>51743.15</td>\n",
       "      <td>0.00</td>\n",
       "      <td>Florida</td>\n",
       "      <td>35673.41</td>\n",
       "    </tr>\n",
       "    <tr>\n",
       "      <th>49</th>\n",
       "      <td>0.00</td>\n",
       "      <td>116983.80</td>\n",
       "      <td>45173.06</td>\n",
       "      <td>Florida</td>\n",
       "      <td>14681.40</td>\n",
       "    </tr>\n",
       "  </tbody>\n",
       "</table>\n",
       "</div>"
      ],
      "text/plain": [
       "    R&D Expenditure  Administration Expenditure  Marketing Expenditure  \\\n",
       "0         165349.20                   136897.80              471784.10   \n",
       "1         162597.70                   151377.59              443898.53   \n",
       "2         153441.51                   101145.55              407934.54   \n",
       "3         144372.41                   118671.85              383199.62   \n",
       "4         142107.34                    91391.77              366168.42   \n",
       "5         131876.90                    99814.71              362861.36   \n",
       "6         134615.46                   147198.87              127716.82   \n",
       "7         130298.13                   145530.06              323876.68   \n",
       "8         120542.52                   148718.95              311613.29   \n",
       "9         123334.88                   108679.17              304981.62   \n",
       "10        101913.08                   110594.11              229160.95   \n",
       "11        100671.96                    91790.61              249744.55   \n",
       "12         93863.75                   127320.38              249839.44   \n",
       "13         91992.39                   135495.07              252664.93   \n",
       "14        119943.24                   156547.42              256512.92   \n",
       "15        114523.61                   122616.84              261776.23   \n",
       "16         78013.11                   121597.55              264346.06   \n",
       "17         94657.16                   145077.58              282574.31   \n",
       "18         91749.16                   114175.79              294919.57   \n",
       "19         86419.70                   153514.11                   0.00   \n",
       "20         76253.86                   113867.30              298664.47   \n",
       "21         78389.47                   153773.43              299737.29   \n",
       "22         73994.56                   122782.75              303319.26   \n",
       "23         67532.53                   105751.03              304768.73   \n",
       "24         77044.01                    99281.34              140574.81   \n",
       "25         64664.71                   139553.16              137962.62   \n",
       "26         75328.87                   144135.98              134050.07   \n",
       "27         72107.60                   127864.55              353183.81   \n",
       "28         66051.52                   182645.56              118148.20   \n",
       "29         65605.48                   153032.06              107138.38   \n",
       "30         61994.48                   115641.28               91131.24   \n",
       "31         61136.38                   152701.92               88218.23   \n",
       "32         63408.86                   129219.61               46085.25   \n",
       "33         55493.95                   103057.49              214634.81   \n",
       "34         46426.07                   157693.92              210797.67   \n",
       "35         46014.02                    85047.44              205517.64   \n",
       "36         28663.76                   127056.21              201126.82   \n",
       "37         44069.95                    51283.14              197029.42   \n",
       "38         20229.59                    65947.93              185265.10   \n",
       "39         38558.51                    82982.09              174999.30   \n",
       "40         28754.33                   118546.05              172795.67   \n",
       "41         27892.92                    84710.77              164470.71   \n",
       "42         23640.93                    96189.63              148001.11   \n",
       "43         15505.73                   127382.30               35534.17   \n",
       "44         22177.74                   154806.14               28334.72   \n",
       "45          1000.23                   124153.04                1903.93   \n",
       "46          1315.46                   115816.21              297114.46   \n",
       "47             0.00                   135426.92                   0.00   \n",
       "48           542.05                    51743.15                   0.00   \n",
       "49             0.00                   116983.80               45173.06   \n",
       "\n",
       "      State     Profit  \n",
       "0   Florida  192261.83  \n",
       "1   Florida  191792.06  \n",
       "2   Florida  191050.39  \n",
       "3   Florida  182901.99  \n",
       "4   Florida  166187.94  \n",
       "5   Florida  156991.12  \n",
       "6   Florida  156122.51  \n",
       "7   Florida  155752.60  \n",
       "8   Florida  152211.77  \n",
       "9   Florida  149759.96  \n",
       "10  Florida  146121.95  \n",
       "11  Florida  144259.40  \n",
       "12  Florida  141585.52  \n",
       "13  Florida  134307.35  \n",
       "14  Florida  132602.65  \n",
       "15  Florida  129917.04  \n",
       "16  Florida  126992.93  \n",
       "17  Florida  125370.37  \n",
       "18  Florida  124266.90  \n",
       "19  Florida  122776.86  \n",
       "20  Florida  118474.03  \n",
       "21  Florida  111313.02  \n",
       "22  Florida  110352.25  \n",
       "23  Florida  108733.99  \n",
       "24  Florida  108552.04  \n",
       "25  Florida  107404.34  \n",
       "26  Florida  105733.54  \n",
       "27  Florida  105008.31  \n",
       "28  Florida  103282.38  \n",
       "29  Florida  101004.64  \n",
       "30  Florida   99937.59  \n",
       "31  Florida   97483.56  \n",
       "32  Florida   97427.84  \n",
       "33  Florida   96778.92  \n",
       "34  Florida   96712.80  \n",
       "35  Florida   96479.51  \n",
       "36  Florida   90708.19  \n",
       "37  Florida   89949.14  \n",
       "38  Florida   81229.06  \n",
       "39  Florida   81005.76  \n",
       "40  Florida   78239.91  \n",
       "41  Florida   77798.83  \n",
       "42  Florida   71498.49  \n",
       "43  Florida   69758.98  \n",
       "44  Florida   65200.33  \n",
       "45  Florida   64926.08  \n",
       "46  Florida   49490.75  \n",
       "47  Florida   42559.73  \n",
       "48  Florida   35673.41  \n",
       "49  Florida   14681.40  "
      ]
     },
     "execution_count": 50,
     "metadata": {},
     "output_type": "execute_result"
    }
   ],
   "source": [
    "# Reading `csv` using Pandas \n",
    "pd.read_csv('Startups.csv')"
   ]
  },
  {
   "attachments": {},
   "cell_type": "markdown",
   "metadata": {},
   "source": [
    "### Create Spark Session and show the Data"
   ]
  },
  {
   "cell_type": "code",
   "execution_count": 51,
   "metadata": {},
   "outputs": [],
   "source": [
    "from pyspark.sql import SparkSession\n",
    "spark = SparkSession.builder.appName('Practise').getOrCreate()"
   ]
  },
  {
   "cell_type": "code",
   "execution_count": 52,
   "metadata": {},
   "outputs": [
    {
     "data": {
      "text/html": [
       "\n",
       "            <div>\n",
       "                <p><b>SparkSession - in-memory</b></p>\n",
       "                \n",
       "        <div>\n",
       "            <p><b>SparkContext</b></p>\n",
       "\n",
       "            <p><a href=\"http://Eslam.mshome.net:4040\">Spark UI</a></p>\n",
       "\n",
       "            <dl>\n",
       "              <dt>Version</dt>\n",
       "                <dd><code>v3.3.2</code></dd>\n",
       "              <dt>Master</dt>\n",
       "                <dd><code>local[*]</code></dd>\n",
       "              <dt>AppName</dt>\n",
       "                <dd><code>Practise</code></dd>\n",
       "            </dl>\n",
       "        </div>\n",
       "        \n",
       "            </div>\n",
       "        "
      ],
      "text/plain": [
       "<pyspark.sql.session.SparkSession at 0x1e6eba1c100>"
      ]
     },
     "execution_count": 52,
     "metadata": {},
     "output_type": "execute_result"
    }
   ],
   "source": [
    "spark"
   ]
  },
  {
   "cell_type": "code",
   "execution_count": 53,
   "metadata": {},
   "outputs": [
    {
     "data": {
      "text/plain": [
       "DataFrame[_c0: string, _c1: string, _c2: string, _c3: string, _c4: string]"
      ]
     },
     "execution_count": 53,
     "metadata": {},
     "output_type": "execute_result"
    }
   ],
   "source": [
    "df_pyspark = spark.read.csv('Startups.csv')\n",
    "df_pyspark"
   ]
  },
  {
   "cell_type": "code",
   "execution_count": 54,
   "metadata": {},
   "outputs": [
    {
     "name": "stdout",
     "output_type": "stream",
     "text": [
      "+---------------+--------------------+--------------------+-------+---------+\n",
      "|            _c0|                 _c1|                 _c2|    _c3|      _c4|\n",
      "+---------------+--------------------+--------------------+-------+---------+\n",
      "|R&D Expenditure|Administration Ex...|Marketing Expendi...|  State|   Profit|\n",
      "|       165349.2|            136897.8|            471784.1|Florida|192261.83|\n",
      "|       162597.7|           151377.59|           443898.53|Florida|191792.06|\n",
      "|      153441.51|           101145.55|           407934.54|Florida|191050.39|\n",
      "|      144372.41|           118671.85|           383199.62|Florida|182901.99|\n",
      "|      142107.34|            91391.77|           366168.42|Florida|166187.94|\n",
      "|       131876.9|            99814.71|           362861.36|Florida|156991.12|\n",
      "|      134615.46|           147198.87|           127716.82|Florida|156122.51|\n",
      "|      130298.13|           145530.06|           323876.68|Florida| 155752.6|\n",
      "|      120542.52|           148718.95|           311613.29|Florida|152211.77|\n",
      "|      123334.88|           108679.17|           304981.62|Florida|149759.96|\n",
      "|      101913.08|           110594.11|           229160.95|Florida|146121.95|\n",
      "|      100671.96|            91790.61|           249744.55|Florida| 144259.4|\n",
      "|       93863.75|           127320.38|           249839.44|Florida|141585.52|\n",
      "|       91992.39|           135495.07|           252664.93|Florida|134307.35|\n",
      "|      119943.24|           156547.42|           256512.92|Florida|132602.65|\n",
      "|      114523.61|           122616.84|           261776.23|Florida|129917.04|\n",
      "|       78013.11|           121597.55|           264346.06|Florida|126992.93|\n",
      "|       94657.16|           145077.58|           282574.31|Florida|125370.37|\n",
      "|       91749.16|           114175.79|           294919.57|Florida| 124266.9|\n",
      "+---------------+--------------------+--------------------+-------+---------+\n",
      "only showing top 20 rows\n",
      "\n"
     ]
    }
   ],
   "source": [
    "df_pyspark.show()"
   ]
  },
  {
   "cell_type": "code",
   "execution_count": 55,
   "metadata": {},
   "outputs": [
    {
     "name": "stdout",
     "output_type": "stream",
     "text": [
      "+---------------+--------------------------+---------------------+-------+---------+\n",
      "|R&D Expenditure|Administration Expenditure|Marketing Expenditure|  State|   Profit|\n",
      "+---------------+--------------------------+---------------------+-------+---------+\n",
      "|       165349.2|                  136897.8|             471784.1|Florida|192261.83|\n",
      "|       162597.7|                 151377.59|            443898.53|Florida|191792.06|\n",
      "|      153441.51|                 101145.55|            407934.54|Florida|191050.39|\n",
      "|      144372.41|                 118671.85|            383199.62|Florida|182901.99|\n",
      "|      142107.34|                  91391.77|            366168.42|Florida|166187.94|\n",
      "|       131876.9|                  99814.71|            362861.36|Florida|156991.12|\n",
      "|      134615.46|                 147198.87|            127716.82|Florida|156122.51|\n",
      "|      130298.13|                 145530.06|            323876.68|Florida| 155752.6|\n",
      "|      120542.52|                 148718.95|            311613.29|Florida|152211.77|\n",
      "|      123334.88|                 108679.17|            304981.62|Florida|149759.96|\n",
      "|      101913.08|                 110594.11|            229160.95|Florida|146121.95|\n",
      "|      100671.96|                  91790.61|            249744.55|Florida| 144259.4|\n",
      "|       93863.75|                 127320.38|            249839.44|Florida|141585.52|\n",
      "|       91992.39|                 135495.07|            252664.93|Florida|134307.35|\n",
      "|      119943.24|                 156547.42|            256512.92|Florida|132602.65|\n",
      "|      114523.61|                 122616.84|            261776.23|Florida|129917.04|\n",
      "|       78013.11|                 121597.55|            264346.06|Florida|126992.93|\n",
      "|       94657.16|                 145077.58|            282574.31|Florida|125370.37|\n",
      "|       91749.16|                 114175.79|            294919.57|Florida| 124266.9|\n",
      "|        86419.7|                 153514.11|                    0|Florida|122776.86|\n",
      "+---------------+--------------------------+---------------------+-------+---------+\n",
      "only showing top 20 rows\n",
      "\n"
     ]
    }
   ],
   "source": [
    "df_pyspark = spark.read.option('header', 'true').csv('Startups.csv')\n",
    "df_pyspark.show()"
   ]
  },
  {
   "cell_type": "code",
   "execution_count": 56,
   "metadata": {},
   "outputs": [
    {
     "data": {
      "text/plain": [
       "pyspark.sql.dataframe.DataFrame"
      ]
     },
     "execution_count": 56,
     "metadata": {},
     "output_type": "execute_result"
    }
   ],
   "source": [
    "type(df_pyspark)"
   ]
  },
  {
   "cell_type": "code",
   "execution_count": 57,
   "metadata": {},
   "outputs": [
    {
     "data": {
      "text/plain": [
       "[Row(R&D Expenditure='165349.2', Administration Expenditure='136897.8', Marketing Expenditure='471784.1', State='Florida', Profit='192261.83'),\n",
       " Row(R&D Expenditure='162597.7', Administration Expenditure='151377.59', Marketing Expenditure='443898.53', State='Florida', Profit='191792.06'),\n",
       " Row(R&D Expenditure='153441.51', Administration Expenditure='101145.55', Marketing Expenditure='407934.54', State='Florida', Profit='191050.39')]"
      ]
     },
     "execution_count": 57,
     "metadata": {},
     "output_type": "execute_result"
    }
   ],
   "source": [
    "df_pyspark.head(3)"
   ]
  },
  {
   "cell_type": "code",
   "execution_count": 58,
   "metadata": {},
   "outputs": [
    {
     "name": "stdout",
     "output_type": "stream",
     "text": [
      "root\n",
      " |-- R&D Expenditure: string (nullable = true)\n",
      " |-- Administration Expenditure: string (nullable = true)\n",
      " |-- Marketing Expenditure: string (nullable = true)\n",
      " |-- State: string (nullable = true)\n",
      " |-- Profit: string (nullable = true)\n",
      "\n"
     ]
    }
   ],
   "source": [
    "df_pyspark.printSchema()"
   ]
  },
  {
   "attachments": {},
   "cell_type": "markdown",
   "metadata": {},
   "source": [
    "## Part 1 - In this Course we will \n",
    "* PySpark DataFrame\n",
    "* Reading the Dataset\n",
    "* Checking the Datatypes of the Column(Schema)\n",
    "* Selecting Columns and Indexing\n",
    "* Check Describe Option Similar to Pandas\n",
    "* Adding Columns\n",
    "* Dropping Columns\n",
    "* Rename Columns"
   ]
  },
  {
   "attachments": {},
   "cell_type": "markdown",
   "metadata": {},
   "source": [
    "### Creating a session"
   ]
  },
  {
   "cell_type": "code",
   "execution_count": 59,
   "metadata": {},
   "outputs": [],
   "source": [
    "from pyspark.sql import SparkSession\n",
    "spark = SparkSession.builder.appName('DataFrame').getOrCreate()"
   ]
  },
  {
   "cell_type": "code",
   "execution_count": 60,
   "metadata": {},
   "outputs": [
    {
     "data": {
      "text/html": [
       "\n",
       "            <div>\n",
       "                <p><b>SparkSession - in-memory</b></p>\n",
       "                \n",
       "        <div>\n",
       "            <p><b>SparkContext</b></p>\n",
       "\n",
       "            <p><a href=\"http://Eslam.mshome.net:4040\">Spark UI</a></p>\n",
       "\n",
       "            <dl>\n",
       "              <dt>Version</dt>\n",
       "                <dd><code>v3.3.2</code></dd>\n",
       "              <dt>Master</dt>\n",
       "                <dd><code>local[*]</code></dd>\n",
       "              <dt>AppName</dt>\n",
       "                <dd><code>Practise</code></dd>\n",
       "            </dl>\n",
       "        </div>\n",
       "        \n",
       "            </div>\n",
       "        "
      ],
      "text/plain": [
       "<pyspark.sql.session.SparkSession at 0x1e6eba1c100>"
      ]
     },
     "execution_count": 60,
     "metadata": {},
     "output_type": "execute_result"
    }
   ],
   "source": [
    "spark"
   ]
  },
  {
   "attachments": {},
   "cell_type": "markdown",
   "metadata": {},
   "source": [
    "### Read The Dataset"
   ]
  },
  {
   "cell_type": "code",
   "execution_count": 61,
   "metadata": {},
   "outputs": [
    {
     "data": {
      "text/plain": [
       "DataFrame[R&D Expenditure: double, Administration Expenditure: double, Marketing Expenditure: double, State: string, Profit: double]"
      ]
     },
     "execution_count": 61,
     "metadata": {},
     "output_type": "execute_result"
    }
   ],
   "source": [
    "# Read The Dataset\n",
    "\"\"\"! \n",
    "inferShcema > use the main data type insted of `String` which is the main \n",
    "header = True > to use the first `row` of the dateset as Headers \n",
    "\"\"\"\n",
    "df_pyspark = spark.read.option('header', 'true').csv('Startups.csv',inferSchema = True) \n",
    "df_pyspark"
   ]
  },
  {
   "cell_type": "code",
   "execution_count": 62,
   "metadata": {},
   "outputs": [
    {
     "name": "stdout",
     "output_type": "stream",
     "text": [
      "+---------------+--------------------------+---------------------+-------+---------+\n",
      "|R&D Expenditure|Administration Expenditure|Marketing Expenditure|  State|   Profit|\n",
      "+---------------+--------------------------+---------------------+-------+---------+\n",
      "|       165349.2|                  136897.8|             471784.1|Florida|192261.83|\n",
      "|       162597.7|                 151377.59|            443898.53|Florida|191792.06|\n",
      "|      153441.51|                 101145.55|            407934.54|Florida|191050.39|\n",
      "|      144372.41|                 118671.85|            383199.62|Florida|182901.99|\n",
      "|      142107.34|                  91391.77|            366168.42|Florida|166187.94|\n",
      "|       131876.9|                  99814.71|            362861.36|Florida|156991.12|\n",
      "|      134615.46|                 147198.87|            127716.82|Florida|156122.51|\n",
      "|      130298.13|                 145530.06|            323876.68|Florida| 155752.6|\n",
      "|      120542.52|                 148718.95|            311613.29|Florida|152211.77|\n",
      "|      123334.88|                 108679.17|            304981.62|Florida|149759.96|\n",
      "|      101913.08|                 110594.11|            229160.95|Florida|146121.95|\n",
      "|      100671.96|                  91790.61|            249744.55|Florida| 144259.4|\n",
      "|       93863.75|                 127320.38|            249839.44|Florida|141585.52|\n",
      "|       91992.39|                 135495.07|            252664.93|Florida|134307.35|\n",
      "|      119943.24|                 156547.42|            256512.92|Florida|132602.65|\n",
      "|      114523.61|                 122616.84|            261776.23|Florida|129917.04|\n",
      "|       78013.11|                 121597.55|            264346.06|Florida|126992.93|\n",
      "|       94657.16|                 145077.58|            282574.31|Florida|125370.37|\n",
      "|       91749.16|                 114175.79|            294919.57|Florida| 124266.9|\n",
      "|        86419.7|                 153514.11|                  0.0|Florida|122776.86|\n",
      "+---------------+--------------------------+---------------------+-------+---------+\n",
      "only showing top 20 rows\n",
      "\n"
     ]
    }
   ],
   "source": [
    "df_pyspark.show()"
   ]
  },
  {
   "cell_type": "code",
   "execution_count": 63,
   "metadata": {},
   "outputs": [
    {
     "name": "stdout",
     "output_type": "stream",
     "text": [
      "root\n",
      " |-- R&D Expenditure: double (nullable = true)\n",
      " |-- Administration Expenditure: double (nullable = true)\n",
      " |-- Marketing Expenditure: double (nullable = true)\n",
      " |-- State: string (nullable = true)\n",
      " |-- Profit: double (nullable = true)\n",
      "\n"
     ]
    }
   ],
   "source": [
    "# Check the Schema (datatypes)\n",
    "df_pyspark.printSchema()"
   ]
  },
  {
   "cell_type": "code",
   "execution_count": 64,
   "metadata": {},
   "outputs": [
    {
     "name": "stdout",
     "output_type": "stream",
     "text": [
      "+---------------+--------------------------+---------------------+-------+---------+\n",
      "|R&D Expenditure|Administration Expenditure|Marketing Expenditure|  State|   Profit|\n",
      "+---------------+--------------------------+---------------------+-------+---------+\n",
      "|       165349.2|                  136897.8|             471784.1|Florida|192261.83|\n",
      "|       162597.7|                 151377.59|            443898.53|Florida|191792.06|\n",
      "|      153441.51|                 101145.55|            407934.54|Florida|191050.39|\n",
      "|      144372.41|                 118671.85|            383199.62|Florida|182901.99|\n",
      "|      142107.34|                  91391.77|            366168.42|Florida|166187.94|\n",
      "|       131876.9|                  99814.71|            362861.36|Florida|156991.12|\n",
      "|      134615.46|                 147198.87|            127716.82|Florida|156122.51|\n",
      "|      130298.13|                 145530.06|            323876.68|Florida| 155752.6|\n",
      "|      120542.52|                 148718.95|            311613.29|Florida|152211.77|\n",
      "|      123334.88|                 108679.17|            304981.62|Florida|149759.96|\n",
      "|      101913.08|                 110594.11|            229160.95|Florida|146121.95|\n",
      "|      100671.96|                  91790.61|            249744.55|Florida| 144259.4|\n",
      "|       93863.75|                 127320.38|            249839.44|Florida|141585.52|\n",
      "|       91992.39|                 135495.07|            252664.93|Florida|134307.35|\n",
      "|      119943.24|                 156547.42|            256512.92|Florida|132602.65|\n",
      "|      114523.61|                 122616.84|            261776.23|Florida|129917.04|\n",
      "|       78013.11|                 121597.55|            264346.06|Florida|126992.93|\n",
      "|       94657.16|                 145077.58|            282574.31|Florida|125370.37|\n",
      "|       91749.16|                 114175.79|            294919.57|Florida| 124266.9|\n",
      "|        86419.7|                 153514.11|                  0.0|Florida|122776.86|\n",
      "+---------------+--------------------------+---------------------+-------+---------+\n",
      "only showing top 20 rows\n",
      "\n"
     ]
    }
   ],
   "source": [
    "# Instead of the previous way, you can use this, it will be same as previous\n",
    "df_pyspark = spark.read.csv('Startups.csv',header = True , inferSchema = True)\n",
    "df_pyspark.show()"
   ]
  },
  {
   "cell_type": "code",
   "execution_count": 65,
   "metadata": {},
   "outputs": [
    {
     "data": {
      "text/plain": [
       "pyspark.sql.dataframe.DataFrame"
      ]
     },
     "execution_count": 65,
     "metadata": {},
     "output_type": "execute_result"
    }
   ],
   "source": [
    "type(df_pyspark)\n",
    "## What is the Data frame?\n",
    "# DataFrame is a Data Structure, inside this you can perform operations"
   ]
  },
  {
   "cell_type": "code",
   "execution_count": 66,
   "metadata": {},
   "outputs": [
    {
     "data": {
      "text/plain": [
       "['R&D Expenditure',\n",
       " 'Administration Expenditure',\n",
       " 'Marketing Expenditure',\n",
       " 'State',\n",
       " 'Profit']"
      ]
     },
     "execution_count": 66,
     "metadata": {},
     "output_type": "execute_result"
    }
   ],
   "source": [
    "df_pyspark.columns"
   ]
  },
  {
   "cell_type": "code",
   "execution_count": 67,
   "metadata": {},
   "outputs": [
    {
     "data": {
      "text/plain": [
       "[Row(R&D Expenditure=165349.2, Administration Expenditure=136897.8, Marketing Expenditure=471784.1, State='Florida', Profit=192261.83),\n",
       " Row(R&D Expenditure=162597.7, Administration Expenditure=151377.59, Marketing Expenditure=443898.53, State='Florida', Profit=191792.06),\n",
       " Row(R&D Expenditure=153441.51, Administration Expenditure=101145.55, Marketing Expenditure=407934.54, State='Florida', Profit=191050.39)]"
      ]
     },
     "execution_count": 67,
     "metadata": {},
     "output_type": "execute_result"
    }
   ],
   "source": [
    "df_pyspark.head(3) # as in Pandas"
   ]
  },
  {
   "cell_type": "code",
   "execution_count": 68,
   "metadata": {},
   "outputs": [
    {
     "name": "stdout",
     "output_type": "stream",
     "text": [
      "+-------+\n",
      "|  State|\n",
      "+-------+\n",
      "|Florida|\n",
      "|Florida|\n",
      "|Florida|\n",
      "|Florida|\n",
      "|Florida|\n",
      "|Florida|\n",
      "|Florida|\n",
      "|Florida|\n",
      "|Florida|\n",
      "|Florida|\n",
      "|Florida|\n",
      "|Florida|\n",
      "|Florida|\n",
      "|Florida|\n",
      "|Florida|\n",
      "|Florida|\n",
      "|Florida|\n",
      "|Florida|\n",
      "|Florida|\n",
      "|Florida|\n",
      "+-------+\n",
      "only showing top 20 rows\n",
      "\n"
     ]
    }
   ],
   "source": [
    "df_pyspark.select('State').show() # returns also a DataFrame\n"
   ]
  },
  {
   "cell_type": "code",
   "execution_count": 69,
   "metadata": {},
   "outputs": [
    {
     "name": "stdout",
     "output_type": "stream",
     "text": [
      "+-------+---------+\n",
      "|  State|   Profit|\n",
      "+-------+---------+\n",
      "|Florida|192261.83|\n",
      "|Florida|191792.06|\n",
      "|Florida|191050.39|\n",
      "|Florida|182901.99|\n",
      "|Florida|166187.94|\n",
      "|Florida|156991.12|\n",
      "|Florida|156122.51|\n",
      "|Florida| 155752.6|\n",
      "|Florida|152211.77|\n",
      "|Florida|149759.96|\n",
      "|Florida|146121.95|\n",
      "|Florida| 144259.4|\n",
      "|Florida|141585.52|\n",
      "|Florida|134307.35|\n",
      "|Florida|132602.65|\n",
      "|Florida|129917.04|\n",
      "|Florida|126992.93|\n",
      "|Florida|125370.37|\n",
      "|Florida| 124266.9|\n",
      "|Florida|122776.86|\n",
      "+-------+---------+\n",
      "only showing top 20 rows\n",
      "\n"
     ]
    }
   ],
   "source": [
    "df_pyspark.select(['State', 'Profit']).show() # returns also a DataFrame"
   ]
  },
  {
   "cell_type": "code",
   "execution_count": 70,
   "metadata": {},
   "outputs": [
    {
     "data": {
      "text/plain": [
       "[('R&D Expenditure', 'double'),\n",
       " ('Administration Expenditure', 'double'),\n",
       " ('Marketing Expenditure', 'double'),\n",
       " ('State', 'string'),\n",
       " ('Profit', 'double')]"
      ]
     },
     "execution_count": 70,
     "metadata": {},
     "output_type": "execute_result"
    }
   ],
   "source": [
    "df_pyspark.dtypes"
   ]
  },
  {
   "cell_type": "code",
   "execution_count": 71,
   "metadata": {},
   "outputs": [
    {
     "name": "stdout",
     "output_type": "stream",
     "text": [
      "+-------+-----------------+--------------------------+---------------------+-------+------------------+\n",
      "|summary|  R&D Expenditure|Administration Expenditure|Marketing Expenditure|  State|            Profit|\n",
      "+-------+-----------------+--------------------------+---------------------+-------+------------------+\n",
      "|  count|               50|                        50|                   50|     50|                50|\n",
      "|   mean|73721.61559999999|        121344.63959999995|   211025.09780000005|   null|112012.63920000002|\n",
      "| stddev|45902.25648230754|        28017.802755488683|   122290.31072584528|   null|40306.180337650534|\n",
      "|    min|              0.0|                  51283.14|                  0.0|Florida|           14681.4|\n",
      "|    max|         165349.2|                 182645.56|             471784.1|Florida|         192261.83|\n",
      "+-------+-----------------+--------------------------+---------------------+-------+------------------+\n",
      "\n"
     ]
    }
   ],
   "source": [
    "df_pyspark.describe().show()"
   ]
  },
  {
   "cell_type": "code",
   "execution_count": 72,
   "metadata": {},
   "outputs": [
    {
     "name": "stdout",
     "output_type": "stream",
     "text": [
      "+---------------+--------------------------+---------------------+-------+---------+-------------+\n",
      "|R&D Expenditure|Administration Expenditure|Marketing Expenditure|  State|   Profit|Profit plus 1|\n",
      "+---------------+--------------------------+---------------------+-------+---------+-------------+\n",
      "|       165349.2|                  136897.8|             471784.1|Florida|192261.83|    192262.83|\n",
      "|       162597.7|                 151377.59|            443898.53|Florida|191792.06|    191793.06|\n",
      "|      153441.51|                 101145.55|            407934.54|Florida|191050.39|    191051.39|\n",
      "|      144372.41|                 118671.85|            383199.62|Florida|182901.99|    182902.99|\n",
      "|      142107.34|                  91391.77|            366168.42|Florida|166187.94|    166188.94|\n",
      "|       131876.9|                  99814.71|            362861.36|Florida|156991.12|    156992.12|\n",
      "|      134615.46|                 147198.87|            127716.82|Florida|156122.51|    156123.51|\n",
      "|      130298.13|                 145530.06|            323876.68|Florida| 155752.6|     155753.6|\n",
      "|      120542.52|                 148718.95|            311613.29|Florida|152211.77|    152212.77|\n",
      "|      123334.88|                 108679.17|            304981.62|Florida|149759.96|    149760.96|\n",
      "|      101913.08|                 110594.11|            229160.95|Florida|146121.95|    146122.95|\n",
      "|      100671.96|                  91790.61|            249744.55|Florida| 144259.4|     144260.4|\n",
      "|       93863.75|                 127320.38|            249839.44|Florida|141585.52|    141586.52|\n",
      "|       91992.39|                 135495.07|            252664.93|Florida|134307.35|    134308.35|\n",
      "|      119943.24|                 156547.42|            256512.92|Florida|132602.65|    132603.65|\n",
      "|      114523.61|                 122616.84|            261776.23|Florida|129917.04|    129918.04|\n",
      "|       78013.11|                 121597.55|            264346.06|Florida|126992.93|    126993.93|\n",
      "|       94657.16|                 145077.58|            282574.31|Florida|125370.37|    125371.37|\n",
      "|       91749.16|                 114175.79|            294919.57|Florida| 124266.9|     124267.9|\n",
      "|        86419.7|                 153514.11|                  0.0|Florida|122776.86|    122777.86|\n",
      "+---------------+--------------------------+---------------------+-------+---------+-------------+\n",
      "only showing top 20 rows\n",
      "\n"
     ]
    }
   ],
   "source": [
    "# Adding Columns in dataframe\n",
    "df_pyspark2 = df_pyspark.withColumn('Profit plus 1' , df_pyspark['Profit']+1  ) # (Column Name , data you wanna put) it is not `inplace` by default\n",
    "df_pyspark2.show()"
   ]
  },
  {
   "cell_type": "code",
   "execution_count": 73,
   "metadata": {},
   "outputs": [
    {
     "name": "stdout",
     "output_type": "stream",
     "text": [
      "+---------------+--------------------------+---------------------+-------+---------+\n",
      "|R&D Expenditure|Administration Expenditure|Marketing Expenditure|  State|   Profit|\n",
      "+---------------+--------------------------+---------------------+-------+---------+\n",
      "|       165349.2|                  136897.8|             471784.1|Florida|192261.83|\n",
      "|       162597.7|                 151377.59|            443898.53|Florida|191792.06|\n",
      "|      153441.51|                 101145.55|            407934.54|Florida|191050.39|\n",
      "|      144372.41|                 118671.85|            383199.62|Florida|182901.99|\n",
      "|      142107.34|                  91391.77|            366168.42|Florida|166187.94|\n",
      "|       131876.9|                  99814.71|            362861.36|Florida|156991.12|\n",
      "|      134615.46|                 147198.87|            127716.82|Florida|156122.51|\n",
      "|      130298.13|                 145530.06|            323876.68|Florida| 155752.6|\n",
      "|      120542.52|                 148718.95|            311613.29|Florida|152211.77|\n",
      "|      123334.88|                 108679.17|            304981.62|Florida|149759.96|\n",
      "|      101913.08|                 110594.11|            229160.95|Florida|146121.95|\n",
      "|      100671.96|                  91790.61|            249744.55|Florida| 144259.4|\n",
      "|       93863.75|                 127320.38|            249839.44|Florida|141585.52|\n",
      "|       91992.39|                 135495.07|            252664.93|Florida|134307.35|\n",
      "|      119943.24|                 156547.42|            256512.92|Florida|132602.65|\n",
      "|      114523.61|                 122616.84|            261776.23|Florida|129917.04|\n",
      "|       78013.11|                 121597.55|            264346.06|Florida|126992.93|\n",
      "|       94657.16|                 145077.58|            282574.31|Florida|125370.37|\n",
      "|       91749.16|                 114175.79|            294919.57|Florida| 124266.9|\n",
      "|        86419.7|                 153514.11|                  0.0|Florida|122776.86|\n",
      "+---------------+--------------------------+---------------------+-------+---------+\n",
      "only showing top 20 rows\n",
      "\n"
     ]
    }
   ],
   "source": [
    "# Drop the Columns\n",
    "df_pyspark2 = df_pyspark2.drop('Profit plus 1')\n",
    "df_pyspark2.show()"
   ]
  },
  {
   "cell_type": "code",
   "execution_count": 74,
   "metadata": {},
   "outputs": [
    {
     "name": "stdout",
     "output_type": "stream",
     "text": [
      "+---------------+--------------------------+---------------------+-------+---------+\n",
      "|R&D Expenditure|Administration Expenditure|Marketing Expenditure|  State|     Prof|\n",
      "+---------------+--------------------------+---------------------+-------+---------+\n",
      "|       165349.2|                  136897.8|             471784.1|Florida|192261.83|\n",
      "|       162597.7|                 151377.59|            443898.53|Florida|191792.06|\n",
      "|      153441.51|                 101145.55|            407934.54|Florida|191050.39|\n",
      "|      144372.41|                 118671.85|            383199.62|Florida|182901.99|\n",
      "|      142107.34|                  91391.77|            366168.42|Florida|166187.94|\n",
      "|       131876.9|                  99814.71|            362861.36|Florida|156991.12|\n",
      "|      134615.46|                 147198.87|            127716.82|Florida|156122.51|\n",
      "|      130298.13|                 145530.06|            323876.68|Florida| 155752.6|\n",
      "|      120542.52|                 148718.95|            311613.29|Florida|152211.77|\n",
      "|      123334.88|                 108679.17|            304981.62|Florida|149759.96|\n",
      "|      101913.08|                 110594.11|            229160.95|Florida|146121.95|\n",
      "|      100671.96|                  91790.61|            249744.55|Florida| 144259.4|\n",
      "|       93863.75|                 127320.38|            249839.44|Florida|141585.52|\n",
      "|       91992.39|                 135495.07|            252664.93|Florida|134307.35|\n",
      "|      119943.24|                 156547.42|            256512.92|Florida|132602.65|\n",
      "|      114523.61|                 122616.84|            261776.23|Florida|129917.04|\n",
      "|       78013.11|                 121597.55|            264346.06|Florida|126992.93|\n",
      "|       94657.16|                 145077.58|            282574.31|Florida|125370.37|\n",
      "|       91749.16|                 114175.79|            294919.57|Florida| 124266.9|\n",
      "|        86419.7|                 153514.11|                  0.0|Florida|122776.86|\n",
      "+---------------+--------------------------+---------------------+-------+---------+\n",
      "only showing top 20 rows\n",
      "\n"
     ]
    }
   ],
   "source": [
    "# Rename the Columns\n",
    "df_pyspark2.withColumnRenamed('Profit' , \"Prof\").show() # (Old name , New name)"
   ]
  },
  {
   "attachments": {},
   "cell_type": "markdown",
   "metadata": {},
   "source": [
    "## Part 2 - Handling Missing Values\n",
    "* Dropping Columns\n",
    "* Dropping Rows\n",
    "* Various Parameter in Dropping Functionalities\n",
    "* Handling Missing Values by Mean, Median and Mode"
   ]
  },
  {
   "cell_type": "code",
   "execution_count": 75,
   "metadata": {},
   "outputs": [],
   "source": [
    "from pyspark.sql import SparkSession \n",
    "spark = SparkSession.builder.appName('Practise').getOrCreate()"
   ]
  },
  {
   "cell_type": "code",
   "execution_count": 76,
   "metadata": {},
   "outputs": [],
   "source": [
    "df_pyspark = spark.read.csv('Startups.csv',header = True , inferSchema = True)"
   ]
  },
  {
   "cell_type": "code",
   "execution_count": 77,
   "metadata": {},
   "outputs": [
    {
     "data": {
      "text/plain": [
       "DataFrame[R&D Expenditure: double, Administration Expenditure: double, Marketing Expenditure: double, State: string, Profit: double]"
      ]
     },
     "execution_count": 77,
     "metadata": {},
     "output_type": "execute_result"
    }
   ],
   "source": [
    "# Drop Columns\n",
    "df_pyspark.drop('') # ($column_name)"
   ]
  },
  {
   "cell_type": "code",
   "execution_count": 78,
   "metadata": {},
   "outputs": [
    {
     "name": "stdout",
     "output_type": "stream",
     "text": [
      "+---------------+--------------------------+---------------------+-------+---------+\n",
      "|R&D Expenditure|Administration Expenditure|Marketing Expenditure|  State|   Profit|\n",
      "+---------------+--------------------------+---------------------+-------+---------+\n",
      "|       165349.2|                  136897.8|             471784.1|Florida|192261.83|\n",
      "|       162597.7|                 151377.59|            443898.53|Florida|191792.06|\n",
      "|      153441.51|                 101145.55|            407934.54|Florida|191050.39|\n",
      "|      144372.41|                 118671.85|            383199.62|Florida|182901.99|\n",
      "|      142107.34|                  91391.77|            366168.42|Florida|166187.94|\n",
      "|       131876.9|                  99814.71|            362861.36|Florida|156991.12|\n",
      "|      134615.46|                 147198.87|            127716.82|Florida|156122.51|\n",
      "|      130298.13|                 145530.06|            323876.68|Florida| 155752.6|\n",
      "|      120542.52|                 148718.95|            311613.29|Florida|152211.77|\n",
      "|      123334.88|                 108679.17|            304981.62|Florida|149759.96|\n",
      "|      101913.08|                 110594.11|            229160.95|Florida|146121.95|\n",
      "|      100671.96|                  91790.61|            249744.55|Florida| 144259.4|\n",
      "|       93863.75|                 127320.38|            249839.44|Florida|141585.52|\n",
      "|       91992.39|                 135495.07|            252664.93|Florida|134307.35|\n",
      "|      119943.24|                 156547.42|            256512.92|Florida|132602.65|\n",
      "|      114523.61|                 122616.84|            261776.23|Florida|129917.04|\n",
      "|       78013.11|                 121597.55|            264346.06|Florida|126992.93|\n",
      "|       94657.16|                 145077.58|            282574.31|Florida|125370.37|\n",
      "|       91749.16|                 114175.79|            294919.57|Florida| 124266.9|\n",
      "|        86419.7|                 153514.11|                  0.0|Florida|122776.86|\n",
      "+---------------+--------------------------+---------------------+-------+---------+\n",
      "only showing top 20 rows\n",
      "\n",
      "+---------------+--------------------------+---------------------+-------+---------+--------------+\n",
      "|R&D Expenditure|Administration Expenditure|Marketing Expenditure|  State|   Profit|Profit_imputed|\n",
      "+---------------+--------------------------+---------------------+-------+---------+--------------+\n",
      "|       165349.2|                  136897.8|             471784.1|Florida|192261.83|     192261.83|\n",
      "|       162597.7|                 151377.59|            443898.53|Florida|191792.06|     191792.06|\n",
      "|      153441.51|                 101145.55|            407934.54|Florida|191050.39|     191050.39|\n",
      "|      144372.41|                 118671.85|            383199.62|Florida|182901.99|     182901.99|\n",
      "|      142107.34|                  91391.77|            366168.42|Florida|166187.94|     166187.94|\n",
      "|       131876.9|                  99814.71|            362861.36|Florida|156991.12|     156991.12|\n",
      "|      134615.46|                 147198.87|            127716.82|Florida|156122.51|     156122.51|\n",
      "|      130298.13|                 145530.06|            323876.68|Florida| 155752.6|      155752.6|\n",
      "|      120542.52|                 148718.95|            311613.29|Florida|152211.77|     152211.77|\n",
      "|      123334.88|                 108679.17|            304981.62|Florida|149759.96|     149759.96|\n",
      "|      101913.08|                 110594.11|            229160.95|Florida|146121.95|     146121.95|\n",
      "|      100671.96|                  91790.61|            249744.55|Florida| 144259.4|      144259.4|\n",
      "|       93863.75|                 127320.38|            249839.44|Florida|141585.52|     141585.52|\n",
      "|       91992.39|                 135495.07|            252664.93|Florida|134307.35|     134307.35|\n",
      "|      119943.24|                 156547.42|            256512.92|Florida|132602.65|     132602.65|\n",
      "|      114523.61|                 122616.84|            261776.23|Florida|129917.04|     129917.04|\n",
      "|       78013.11|                 121597.55|            264346.06|Florida|126992.93|     126992.93|\n",
      "|       94657.16|                 145077.58|            282574.31|Florida|125370.37|     125370.37|\n",
      "|       91749.16|                 114175.79|            294919.57|Florida| 124266.9|      124266.9|\n",
      "|        86419.7|                 153514.11|                  0.0|Florida|122776.86|     122776.86|\n",
      "+---------------+--------------------------+---------------------+-------+---------+--------------+\n",
      "only showing top 20 rows\n",
      "\n"
     ]
    }
   ],
   "source": [
    "# Drop Null Rows\n",
    "\"\"\"\n",
    "na.drop\n",
    "na.fill\n",
    "na.replace\n",
    "\"\"\"\n",
    "df_pyspark.na.drop().show()\n",
    "\n",
    "df_pyspark.na.drop(how = 'all') #('all', 'any': Default ) delete the row that has `all` null \n",
    "df_pyspark.na.drop(thresh = 2) # Delete rows with less than `2` non-null values\n",
    "df_pyspark.na.drop(subset = ['State'])  # apply on these Columns\n",
    "\n",
    "\n",
    "# Filling the missing values\n",
    "df_pyspark.na.fill('Missing Values','State') # Replace `null` with 'Missing Values' from `State` Column\n",
    "# df_pyspark.na.fill('Missing Values',['State','',''])\n",
    "\n",
    "\n",
    "from pyspark.ml.feature import Imputer\n",
    "imputer = Imputer(\n",
    "    inputCols = ['Profit'],\n",
    "    outputCols = [f'{c}_imputed' for c in ['Profit']]\n",
    ").setStrategy('mean')\n",
    "imputer.fit(df_pyspark).transform(df_pyspark).show()"
   ]
  },
  {
   "attachments": {},
   "cell_type": "markdown",
   "metadata": {},
   "source": [
    "## Part 3 - DataFrames\n",
    "* Filter Operations\n",
    "* & - | - ==\n",
    "* ~"
   ]
  },
  {
   "attachments": {},
   "cell_type": "markdown",
   "metadata": {},
   "source": [
    "### Filter Operation"
   ]
  },
  {
   "cell_type": "code",
   "execution_count": 79,
   "metadata": {},
   "outputs": [
    {
     "name": "stdout",
     "output_type": "stream",
     "text": [
      "+-------+\n",
      "|  State|\n",
      "+-------+\n",
      "|Florida|\n",
      "|Florida|\n",
      "|Florida|\n",
      "+-------+\n",
      "only showing top 3 rows\n",
      "\n",
      "+-------+--------+\n",
      "|  State|  Profit|\n",
      "+-------+--------+\n",
      "|Florida|49490.75|\n",
      "|Florida|42559.73|\n",
      "|Florida|35673.41|\n",
      "|Florida| 14681.4|\n",
      "+-------+--------+\n",
      "\n",
      "+-----+------+\n",
      "|State|Profit|\n",
      "+-----+------+\n",
      "+-----+------+\n",
      "\n"
     ]
    }
   ],
   "source": [
    "# You can use any operaitons you want\n",
    "df_pyspark.filter('Profit >= 2000 ').select(['State']).show(3)\n",
    "\n",
    "df_pyspark.filter((df_pyspark['Profit'] >= 2000) & (df_pyspark['Profit'] <= 50000)).select(['State','Profit']).show()\n",
    "\n",
    "df_pyspark.filter(~(df_pyspark['Profit'] >= 2000)).select(['State','Profit']).show()  # the `~` sign Represents `Not` == `!` \n"
   ]
  },
  {
   "attachments": {},
   "cell_type": "markdown",
   "metadata": {},
   "source": [
    "## Part 4 - GroupBy & Aggregate"
   ]
  },
  {
   "cell_type": "code",
   "execution_count": 80,
   "metadata": {},
   "outputs": [
    {
     "name": "stdout",
     "output_type": "stream",
     "text": [
      "+-------+--------------------+-------------------------------+--------------------------+-----------------+\n",
      "|  State|sum(R&D Expenditure)|sum(Administration Expenditure)|sum(Marketing Expenditure)|      sum(Profit)|\n",
      "+-------+--------------------+-------------------------------+--------------------------+-----------------+\n",
      "|Florida|          3686080.78|              6067231.979999998|      1.0551254890000002E7|5600631.960000001|\n",
      "+-------+--------------------+-------------------------------+--------------------------+-----------------+\n",
      "\n"
     ]
    }
   ],
   "source": [
    "# GroupBy\n",
    "df_pyspark.groupby('State').sum().show()"
   ]
  },
  {
   "cell_type": "code",
   "execution_count": 81,
   "metadata": {},
   "outputs": [
    {
     "name": "stdout",
     "output_type": "stream",
     "text": [
      "+-----------------+\n",
      "|      sum(Profit)|\n",
      "+-----------------+\n",
      "|5600631.960000001|\n",
      "+-----------------+\n",
      "\n"
     ]
    }
   ],
   "source": [
    "df_pyspark.agg({'Profit':'sum'}).show()"
   ]
  },
  {
   "attachments": {},
   "cell_type": "markdown",
   "metadata": {},
   "source": [
    "## PySpark ML\n",
    "[Age , Experience] ----> New Feature -----> Independent Feature"
   ]
  },
  {
   "cell_type": "code",
   "execution_count": 82,
   "metadata": {},
   "outputs": [
    {
     "name": "stdout",
     "output_type": "stream",
     "text": [
      "+---------------+--------------------------+---------------------+-------+---------+--------------------+\n",
      "|R&D Expenditure|Administration Expenditure|Marketing Expenditure|  State|   Profit| Independent Feature|\n",
      "+---------------+--------------------------+---------------------+-------+---------+--------------------+\n",
      "|       165349.2|                  136897.8|             471784.1|Florida|192261.83|[471784.1,192261.83]|\n",
      "|       162597.7|                 151377.59|            443898.53|Florida|191792.06|[443898.53,191792...|\n",
      "|      153441.51|                 101145.55|            407934.54|Florida|191050.39|[407934.54,191050...|\n",
      "|      144372.41|                 118671.85|            383199.62|Florida|182901.99|[383199.62,182901...|\n",
      "|      142107.34|                  91391.77|            366168.42|Florida|166187.94|[366168.42,166187...|\n",
      "|       131876.9|                  99814.71|            362861.36|Florida|156991.12|[362861.36,156991...|\n",
      "|      134615.46|                 147198.87|            127716.82|Florida|156122.51|[127716.82,156122...|\n",
      "|      130298.13|                 145530.06|            323876.68|Florida| 155752.6|[323876.68,155752.6]|\n",
      "|      120542.52|                 148718.95|            311613.29|Florida|152211.77|[311613.29,152211...|\n",
      "|      123334.88|                 108679.17|            304981.62|Florida|149759.96|[304981.62,149759...|\n",
      "|      101913.08|                 110594.11|            229160.95|Florida|146121.95|[229160.95,146121...|\n",
      "|      100671.96|                  91790.61|            249744.55|Florida| 144259.4|[249744.55,144259.4]|\n",
      "|       93863.75|                 127320.38|            249839.44|Florida|141585.52|[249839.44,141585...|\n",
      "|       91992.39|                 135495.07|            252664.93|Florida|134307.35|[252664.93,134307...|\n",
      "|      119943.24|                 156547.42|            256512.92|Florida|132602.65|[256512.92,132602...|\n",
      "|      114523.61|                 122616.84|            261776.23|Florida|129917.04|[261776.23,129917...|\n",
      "|       78013.11|                 121597.55|            264346.06|Florida|126992.93|[264346.06,126992...|\n",
      "|       94657.16|                 145077.58|            282574.31|Florida|125370.37|[282574.31,125370...|\n",
      "|       91749.16|                 114175.79|            294919.57|Florida| 124266.9|[294919.57,124266.9]|\n",
      "|        86419.7|                 153514.11|                  0.0|Florida|122776.86|     [0.0,122776.86]|\n",
      "+---------------+--------------------------+---------------------+-------+---------+--------------------+\n",
      "only showing top 20 rows\n",
      "\n"
     ]
    }
   ],
   "source": [
    "# it will combine them in one List as one Feature\n",
    "from pyspark.ml.feature import VectorAssembler\n",
    "featureAssembler = VectorAssembler(inputCols = ['Marketing Expenditure','Profit'] , outputCol = 'Independent Feature')\n",
    "output = featureAssembler.transform(df_pyspark)\n",
    "output.show()"
   ]
  },
  {
   "cell_type": "code",
   "execution_count": 83,
   "metadata": {},
   "outputs": [],
   "source": [
    "from pyspark.ml.regression import LinearRegression\n",
    "finalized_data = output.select(\"Profit\" , \"Independent Feature\")\n",
    "\n",
    "# Train test Split\n",
    "train_data , test_data = finalized_data.randomSplit([0.75,0.25])\n",
    "regressor = LinearRegression(featuresCol='Independent Feature' , labelCol='Profit')\n",
    "regressor = regressor.fit(train_data)"
   ]
  },
  {
   "cell_type": "code",
   "execution_count": 84,
   "metadata": {},
   "outputs": [
    {
     "data": {
      "text/plain": [
       "DenseVector([0.0, 1.0])"
      ]
     },
     "execution_count": 84,
     "metadata": {},
     "output_type": "execute_result"
    }
   ],
   "source": [
    "# Coefficients\n",
    "regressor.coefficients"
   ]
  },
  {
   "cell_type": "code",
   "execution_count": 85,
   "metadata": {},
   "outputs": [
    {
     "data": {
      "text/plain": [
       "1.141136435101166e-10"
      ]
     },
     "execution_count": 85,
     "metadata": {},
     "output_type": "execute_result"
    }
   ],
   "source": [
    "# Intercepts\n",
    "regressor.intercept"
   ]
  },
  {
   "cell_type": "code",
   "execution_count": 86,
   "metadata": {},
   "outputs": [
    {
     "name": "stdout",
     "output_type": "stream",
     "text": [
      "+---------+--------------------+------------------+\n",
      "|   Profit| Independent Feature|        prediction|\n",
      "+---------+--------------------+------------------+\n",
      "| 99937.59| [91131.24,99937.59]| 99937.58999999995|\n",
      "|103282.38|[118148.2,103282.38]|103282.37999999998|\n",
      "| 124266.9|[294919.57,124266.9]|124266.90000000001|\n",
      "|129917.04|[261776.23,129917...|129917.03999999998|\n",
      "|132602.65|[256512.92,132602...|132602.64999999997|\n",
      "|156122.51|[127716.82,156122...| 156122.5099999999|\n",
      "|182901.99|[383199.62,182901...|182901.98999999993|\n",
      "|191050.39|[407934.54,191050...|191050.38999999996|\n",
      "+---------+--------------------+------------------+\n",
      "\n"
     ]
    }
   ],
   "source": [
    "# Prediction\n",
    "pred_results = regressor.evaluate(test_data)\n",
    "pred_results.predictions.show()"
   ]
  },
  {
   "cell_type": "code",
   "execution_count": 87,
   "metadata": {},
   "outputs": [
    {
     "data": {
      "text/plain": [
       "(4.547473508864641e-11, 3.0440246541951415e-21)"
      ]
     },
     "execution_count": 87,
     "metadata": {},
     "output_type": "execute_result"
    }
   ],
   "source": [
    "pred_results.meanAbsoluteError , pred_results.meanSquaredError"
   ]
  }
 ],
 "metadata": {
  "kernelspec": {
   "display_name": "base",
   "language": "python",
   "name": "python3"
  },
  "language_info": {
   "codemirror_mode": {
    "name": "ipython",
    "version": 3
   },
   "file_extension": ".py",
   "mimetype": "text/x-python",
   "name": "python",
   "nbconvert_exporter": "python",
   "pygments_lexer": "ipython3",
   "version": "3.8.16"
  },
  "orig_nbformat": 4
 },
 "nbformat": 4,
 "nbformat_minor": 2
}
